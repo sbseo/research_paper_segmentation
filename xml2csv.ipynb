{
 "cells": [
  {
   "cell_type": "markdown",
   "metadata": {},
   "source": [
    "## Research Paper Segmentation \n",
    "\n",
    "*CS445 Computational Photography Final Project*\n",
    "\n",
    "- Bruno Seo (sbseo2)\n",
    "- Michal Gryga (mgryga2)"
   ]
  },
  {
   "cell_type": "markdown",
   "metadata": {},
   "source": [
    "### Load packages"
   ]
  },
  {
   "cell_type": "code",
   "execution_count": 1,
   "metadata": {},
   "outputs": [],
   "source": [
    "import numpy as np\n",
    "import pandas as pd\n",
    "import xml.etree.ElementTree as ET"
   ]
  },
  {
   "cell_type": "markdown",
   "metadata": {},
   "source": [
    "### Setup directory"
   ]
  },
  {
   "cell_type": "code",
   "execution_count": 2,
   "metadata": {},
   "outputs": [],
   "source": [
    "input_directory = './xml/' "
   ]
  },
  {
   "cell_type": "code",
   "execution_count": 3,
   "metadata": {},
   "outputs": [],
   "source": [
    "output_directory = './csv/' "
   ]
  },
  {
   "cell_type": "markdown",
   "metadata": {},
   "source": [
    "### Convert xml 2 csv"
   ]
  },
  {
   "cell_type": "code",
   "execution_count": 4,
   "metadata": {},
   "outputs": [],
   "source": [
    "for i in range(1,101):\n",
    "    tree = ET.parse(input_directory + \"{}.xml\".format(i))\n",
    "    root = tree.getroot()\n",
    "\n",
    "    rows = list()\n",
    "\n",
    "    for att in root:\n",
    "        if att.tag == 'object':\n",
    "            row = list()\n",
    "            for v in att:\n",
    "                if v.tag == 'name':\n",
    "                    row.append(v.text)\n",
    "                elif v.tag == 'bndbox':\n",
    "                    for b in v:\n",
    "                        if b.tag == 'xmin':\n",
    "                            row.append(b.text)\n",
    "                        elif b.tag == 'ymin':\n",
    "                            row.append(b.text)\n",
    "                        elif b.tag == 'xmax':\n",
    "                            row.append(b.text)\n",
    "                        elif b.tag == 'ymax':\n",
    "                            row.append(b.text)\n",
    "            rows.append(row)\n",
    "\n",
    "    df = pd.DataFrame(np.array(rows),\n",
    "                        columns=['name', 'xmin', 'ymin', 'xmax', 'ymax'])\n",
    "    df.to_csv(output_directory + \"{}.csv\".format(i))"
   ]
  }
 ],
 "metadata": {
  "kernelspec": {
   "display_name": "Python 3",
   "language": "python",
   "name": "python3"
  },
  "language_info": {
   "codemirror_mode": {
    "name": "ipython",
    "version": 3
   },
   "file_extension": ".py",
   "mimetype": "text/x-python",
   "name": "python",
   "nbconvert_exporter": "python",
   "pygments_lexer": "ipython3",
   "version": "3.7.4"
  }
 },
 "nbformat": 4,
 "nbformat_minor": 2
}
