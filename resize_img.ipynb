{
 "cells": [
  {
   "cell_type": "code",
   "execution_count": null,
   "metadata": {},
   "outputs": [],
   "source": [
    "import cv2\n",
    "from PIL import Image"
   ]
  },
  {
   "cell_type": "markdown",
   "metadata": {},
   "source": [
    "### Resize images"
   ]
  },
  {
   "cell_type": "code",
   "execution_count": null,
   "metadata": {},
   "outputs": [],
   "source": [
    "img_dir = './img/'\n",
    "csv_dir = './csv/' "
   ]
  },
  {
   "cell_type": "markdown",
   "metadata": {},
   "source": [
    "### Load image and get max height and max weight"
   ]
  },
  {
   "cell_type": "code",
   "execution_count": null,
   "metadata": {},
   "outputs": [],
   "source": [
    "im_list = list()\n",
    "pil_list = list()\n",
    "width_max = 0\n",
    "height_max = 0\n",
    "for i in range(1, 101):\n",
    "    im = cv2.imread(img_dir + '{}.jpg'.format(i))\n",
    "    pil = Image.open(img_dir + '{}.jpg'.format(i))\n",
    "    pil_list.append(pil)\n",
    "    im_list.append(im)\n",
    "    height_max = max(height_max, im.shape[0])\n",
    "    width_max = max(width_max, im.shape[1])"
   ]
  },
  {
   "cell_type": "markdown",
   "metadata": {},
   "source": [
    "### Add margin\n",
    "\n",
    "Reference: Used code directly from https://note.nkmk.me/en/python-pillow-add-margin-expand-canvas/"
   ]
  },
  {
   "cell_type": "code",
   "execution_count": null,
   "metadata": {},
   "outputs": [],
   "source": [
    "def add_margin(pil_img, top, right, bottom, left, color):\n",
    "    width, height = pil_img.size\n",
    "    new_width = width + right + left\n",
    "    new_height = height + top + bottom\n",
    "    result = Image.new(pil_img.mode, (new_width, new_height), color)\n",
    "    result.paste(pil_img, (left, top))\n",
    "    return result"
   ]
  },
  {
   "cell_type": "markdown",
   "metadata": {},
   "source": [
    "### Add margin"
   ]
  },
  {
   "cell_type": "code",
   "execution_count": null,
   "metadata": {},
   "outputs": [],
   "source": [
    "for i, im in enumerate(pil_list):\n",
    "    h, w, _ = im_list[i].shape\n",
    "    pil_list[i] = add_margin(im, 0, width_max-w, height_max-h, 0, (255,255,255))\n",
    "    pil_list[i].save('./img_resize/{}.jpg'.format(i+1), quality=100)"
   ]
  },
  {
   "cell_type": "markdown",
   "metadata": {},
   "source": [
    "### Decrease Size"
   ]
  },
  {
   "cell_type": "code",
   "execution_count": null,
   "metadata": {},
   "outputs": [],
   "source": [
    "for i in range(1, 101):\n",
    "    im = cv2.imread(img_dir + '{}.jpg'.format(i))\n",
    "    width = int(im.shape[1] * .3)\n",
    "    height = int(im.shape[0] * .3)\n",
    "    resized = cv2.resize(im, (width, height))\n",
    "    cv2.imwrite('./img2/{}.jpg'.format(i), resized)"
   ]
  }
 ],
 "metadata": {
  "kernelspec": {
   "display_name": "Python 3",
   "language": "python",
   "name": "python3"
  },
  "language_info": {
   "codemirror_mode": {
    "name": "ipython",
    "version": 3
   },
   "file_extension": ".py",
   "mimetype": "text/x-python",
   "name": "python",
   "nbconvert_exporter": "python",
   "pygments_lexer": "ipython3",
   "version": "3.5.9"
  }
 },
 "nbformat": 4,
 "nbformat_minor": 4
}
