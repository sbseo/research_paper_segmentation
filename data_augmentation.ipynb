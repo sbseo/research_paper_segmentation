{
 "cells": [
  {
   "cell_type": "markdown",
   "metadata": {},
   "source": [
    "## Research Paper Segmentation \n",
    "\n",
    "*CS445 Computational Photography Final Project*\n",
    "\n",
    "- Bruno Seo (sbseo2)\n",
    "- Michal Gryga (mgryga2)"
   ]
  },
  {
   "cell_type": "markdown",
   "metadata": {},
   "source": [
    "Data augmentation process follows the exactly the same pipeline with `resizing image` except that the order is different.\n",
    "\n",
    "- Resize image: load images -> add margin -> decrease size\n",
    "- Data augmentation: load images -> decrease size -> add margin "
   ]
  },
  {
   "cell_type": "markdown",
   "metadata": {},
   "source": [
    "### Load Packages"
   ]
  },
  {
   "cell_type": "code",
   "execution_count": 55,
   "metadata": {},
   "outputs": [],
   "source": [
    "import cv2\n",
    "from matplotlib import pyplot as plt\n",
    "import pandas as pd\n",
    "from PIL import Image\n",
    "import os"
   ]
  },
  {
   "cell_type": "markdown",
   "metadata": {},
   "source": [
    "### Set directory"
   ]
  },
  {
   "cell_type": "code",
   "execution_count": 91,
   "metadata": {},
   "outputs": [],
   "source": [
    "img_dir = './raw_img/'\n",
    "csv_dir = './csv/' \n",
    "tar_dir = './aug_img/' \n",
    "adj_dir = './aug_csv/' "
   ]
  },
  {
   "cell_type": "code",
   "execution_count": 134,
   "metadata": {},
   "outputs": [],
   "source": [
    "img_width, img_height = 510, 701\n",
    "ratio = .32\n",
    "counter_loop = 7"
   ]
  },
  {
   "cell_type": "code",
   "execution_count": 135,
   "metadata": {},
   "outputs": [],
   "source": [
    "total_imgs = len(os.listdir(img_dir))"
   ]
  },
  {
   "cell_type": "markdown",
   "metadata": {},
   "source": [
    "### Load image and decrease size"
   ]
  },
  {
   "cell_type": "code",
   "execution_count": 136,
   "metadata": {},
   "outputs": [],
   "source": [
    "for i in range(1, total_imgs+1):\n",
    "    im = cv2.imread(img_dir + '{}.jpg'.format(i))\n",
    "    width = int(im.shape[1] * ratio)\n",
    "    height = int(im.shape[0] * ratio)\n",
    "    resized = cv2.resize(im, (width, height))\n",
    "    cv2.imwrite(tar_dir + '{}.jpg'.format((100*(counter_loop-1)+i)), resized)"
   ]
  },
  {
   "cell_type": "markdown",
   "metadata": {},
   "source": [
    "### Add margin\n",
    "\n",
    "Reference: Used code directly from https://note.nkmk.me/en/python-pillow-add-margin-expand-canvas/"
   ]
  },
  {
   "cell_type": "code",
   "execution_count": 137,
   "metadata": {},
   "outputs": [],
   "source": [
    "from PIL import Image\n",
    "\n",
    "def add_margin(pil_img, top, right, bottom, left, color):\n",
    "    width, height = pil_img.size\n",
    "    new_width = width + right + left\n",
    "    new_height = height + top + bottom\n",
    "    result = Image.new(pil_img.mode, (new_width, new_height), color)\n",
    "    result.paste(pil_img, (left, top))\n",
    "    return result"
   ]
  },
  {
   "cell_type": "code",
   "execution_count": 138,
   "metadata": {},
   "outputs": [],
   "source": [
    "for i in range(1, total_imgs+1):\n",
    "    im = cv2.imread(tar_dir + '{}.jpg'.format((100*(counter_loop-1)+i)))\n",
    "    pil = Image.open(tar_dir + '{}.jpg'.format((100*(counter_loop-1)+i)))\n",
    "    h, w, _ = im.shape\n",
    "    pil = add_margin(pil, 0, img_width-w, img_height-h, 0, (255,255,255))\n",
    "    pil.save(tar_dir + '{}.jpg'.format((100*(counter_loop-1)+i)), quality=100)"
   ]
  },
  {
   "cell_type": "markdown",
   "metadata": {},
   "source": [
    "### Adjust location in csv"
   ]
  },
  {
   "cell_type": "code",
   "execution_count": 139,
   "metadata": {},
   "outputs": [],
   "source": [
    "for i in range(1, total_imgs+1):\n",
    "    df = pd.read_csv(csv_dir+'{}.csv'.format(i))\n",
    "    positions = ['xmin', 'ymin', 'xmax', 'ymax']\n",
    "\n",
    "    for pos in positions:\n",
    "        df[pos] *= ratio\n",
    "    df.to_csv(adj_dir + \"{}.csv\".format((100*(counter_loop-1)+i)))"
   ]
  }
 ],
 "metadata": {
  "kernelspec": {
   "display_name": "Python 3",
   "language": "python",
   "name": "python3"
  },
  "language_info": {
   "codemirror_mode": {
    "name": "ipython",
    "version": 3
   },
   "file_extension": ".py",
   "mimetype": "text/x-python",
   "name": "python",
   "nbconvert_exporter": "python",
   "pygments_lexer": "ipython3",
   "version": "3.5.9"
  }
 },
 "nbformat": 4,
 "nbformat_minor": 4
}
